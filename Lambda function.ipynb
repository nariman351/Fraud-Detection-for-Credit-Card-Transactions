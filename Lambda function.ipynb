{
  "nbformat": 4,
  "nbformat_minor": 0,
  "metadata": {
    "colab": {
      "name": "model lambda function- works without postman.ipynb",
      "provenance": [],
      "collapsed_sections": []
    },
    "kernelspec": {
      "name": "python3",
      "display_name": "Python 3"
    },
    "language_info": {
      "name": "python"
    }
  },
  "cells": [
    {
      "cell_type": "code",
      "execution_count": null,
      "metadata": {
        "id": "gsX8jo5jyjSR"
      },
      "outputs": [],
      "source": [
        "import boto3\n",
        "import json\n",
        "import base64\n",
        "# copy endpoint name u got from endpoint name print() or uploaded one and copy it here\n",
        "ENDPOINT_NAME = 'xgboost-2022-05-10-20-38-39-998'\n",
        "runtime = boto3.client('runtime.sagemaker')\n",
        "\n",
        "\n",
        "\n",
        "def lambda_handler(event, context):\n",
        " # decodeddata =  base64.b64decode(event['body'])\n",
        " # decodeddata = decodeddata.decode('UTF-8')\n",
        " # inputs = json.loads(decodeddata)\n",
        " # inputs = inputs['data']\n",
        " # inputs = event['data']\n",
        " inputs = event\n",
        " print(inputs)\n",
        " result = []\n",
        " for input in inputs:\n",
        "  serialized_input = ','.join(map(str, input))\n",
        "  response = runtime.invoke_endpoint(EndpointName=ENDPOINT_NAME,\n",
        "                                     ContentType='text/csv',\n",
        "                                     Body=serialized_input)\n",
        "  result.append(response['Body'].read().decode())\n",
        "  \n",
        "  result_number = []\n",
        " for number in result:\n",
        "  result_number = float(number)\n",
        "  print(result_number)\n",
        " rounded_result_umber = True\n",
        " if (result_number > 0.5):\n",
        "   rounded_result_umber = False\n",
        "  \n",
        " return rounded_result_umber\n"
      ]
    }
  ]
}